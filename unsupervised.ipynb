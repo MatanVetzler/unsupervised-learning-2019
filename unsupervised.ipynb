{
 "cells": [
  {
   "cell_type": "code",
   "execution_count": 1,
   "metadata": {
    "collapsed": false
   },
   "outputs": [
    {
     "name": "stderr",
     "output_type": "stream",
     "text": [
      "/home/lizard/anaconda2/lib/python2.7/site-packages/matplotlib/font_manager.py:273: UserWarning: Matplotlib is building the font cache using fc-list. This may take a moment.\n",
      "  warnings.warn('Matplotlib is building the font cache using fc-list. This may take a moment.')\n"
     ]
    }
   ],
   "source": [
    "import numpy as np\n",
    "import pandas as pd\n",
    "import matplotlib.pyplot as plt\n",
    "from sklearn.cluster import KMeans\n",
    "from sklearn import metrics\n",
    "import matplotlib.pyplot as plt\n",
    "%matplotlib inline\n",
    "import gc\n",
    "from itertools import combinations\n",
    "import sys\n",
    "sys.path.append('/usr/local/lib/python2.7/dist-packages/')\n",
    "import community\n",
    "import networkx as nx"
   ]
  },
  {
   "cell_type": "code",
   "execution_count": 2,
   "metadata": {
    "collapsed": false
   },
   "outputs": [],
   "source": [
    "diabetic_data = pd.read_csv('dataset_diabetes/diabetic_data.csv')"
   ]
  },
  {
   "cell_type": "code",
   "execution_count": 3,
   "metadata": {
    "collapsed": false
   },
   "outputs": [],
   "source": [
    "diag_codes = pd.read_csv('icd9.csv',names=['code','diag_description'])"
   ]
  },
  {
   "cell_type": "code",
   "execution_count": 4,
   "metadata": {
    "collapsed": false
   },
   "outputs": [],
   "source": [
    "diag_codes_dict = dict(zip(diag_codes['code'].values,diag_codes['diag_description'].values))"
   ]
  },
  {
   "cell_type": "code",
   "execution_count": 5,
   "metadata": {
    "collapsed": true
   },
   "outputs": [],
   "source": [
    "def get_description(diag):\n",
    "    if diag in diag_codes_dict.keys():\n",
    "        ret = diag_codes_dict[diag]\n",
    "    else:\n",
    "        ret = diag\n",
    "    return ret"
   ]
  },
  {
   "cell_type": "code",
   "execution_count": 6,
   "metadata": {
    "collapsed": false
   },
   "outputs": [],
   "source": [
    "ids_mapping_dict = {}\n",
    "key = ''\n",
    "with open('dataset_diabetes/IDs_mapping.csv','r') as f:\n",
    "    for line in  f.readlines():\n",
    "        line =  line.strip()\n",
    "        if line == ',':\n",
    "            continue\n",
    "        vals = line.split(',')\n",
    "        if vals[1] == 'description':\n",
    "            key = vals[0]\n",
    "            ids_mapping_dict[key] = {}\n",
    "            continue\n",
    "        else:\n",
    "            ids_mapping_dict[key][vals[0]]=  vals[1]"
   ]
  },
  {
   "cell_type": "code",
   "execution_count": 7,
   "metadata": {
    "collapsed": false
   },
   "outputs": [],
   "source": [
    "nominal_columns = [u'race', u'gender', u'age',\n",
    "       u'admission_type_id', u'discharge_disposition_id',\n",
    "       u'admission_source_id', u'payer_code',\n",
    "       u'medical_specialty', u'diag_1', u'diag_2', u'diag_3',\n",
    "       u'max_glu_serum', u'A1Cresult', u'change', u'diabetesMed', u'readmitted']\n",
    "\n",
    "numeric_columns = [u'time_in_hospital',u'num_lab_procedures', u'num_procedures',\n",
    "       u'num_medications', u'number_outpatient', u'number_emergency',\n",
    "       u'number_inpatient','number_diagnoses']\n",
    "\n",
    "medicaation_columns = [u'metformin',u'repaglinide', u'nateglinide', u'chlorpropamide', u'glimepiride',\n",
    "       u'acetohexamide', u'glipizide', u'glyburide', u'tolbutamide',\n",
    "       u'pioglitazone', u'rosiglitazone', u'acarbose', u'miglitol',\n",
    "       u'troglitazone', u'tolazamide', u'examide', u'citoglipton', u'insulin',\n",
    "       u'glyburide-metformin', u'glipizide-metformin',\n",
    "       u'glimepiride-pioglitazone', u'metformin-rosiglitazone',\n",
    "       u'metformin-pioglitazone']\n",
    "\n",
    "cols_to_remove  = [u'encounter_id', u'patient_nbr',u'weight']"
   ]
  },
  {
   "cell_type": "code",
   "execution_count": 8,
   "metadata": {
    "collapsed": false
   },
   "outputs": [],
   "source": [
    "diabetic_data['admission_source_id'] = diabetic_data['admission_source_id'].apply(lambda x: ids_mapping_dict['admission_source_id'][str(x)])\n",
    "diabetic_data['discharge_disposition_id'] = diabetic_data['discharge_disposition_id'].apply(lambda x: ids_mapping_dict['discharge_disposition_id'][str(x)])\n",
    "diabetic_data['admission_type_id'] = diabetic_data['admission_type_id'].apply(lambda x: ids_mapping_dict['admission_type_id'][str(x)])"
   ]
  },
  {
   "cell_type": "code",
   "execution_count": 9,
   "metadata": {
    "collapsed": true
   },
   "outputs": [],
   "source": [
    "diabetic_data['diag_1'] = diabetic_data['diag_1'].apply(get_description)\n",
    "diabetic_data['diag_2'] = diabetic_data['diag_2'].apply(get_description)\n",
    "diabetic_data['diag_3'] = diabetic_data['diag_3'].apply(get_description)"
   ]
  },
  {
   "cell_type": "markdown",
   "metadata": {},
   "source": [
    "# Features Connection"
   ]
  },
  {
   "cell_type": "code",
   "execution_count": 248,
   "metadata": {
    "collapsed": false
   },
   "outputs": [],
   "source": [
    "arr = []\n",
    "threshols = 5.0\n",
    "samples_thres = 500\n",
    "for comb in combinations(nominal_columns + numeric_columns,2):\n",
    "    ct = pd.crosstab(diabetic_data[comb[0]],diabetic_data[comb[1]])\n",
    "    ct = ct[ct>samples_thres].fillna(0).apply(lambda r: r/r.sum(), axis=1).apply(lambda r: r/r.sum(), axis=1)\n",
    "    distribution = diabetic_data[comb[1]].value_counts(normalize=True)\n",
    "    for col in ct.columns:\n",
    "        ct[col]=  ct[col] / distribution[col]\n",
    "    res = ct[(ct> threshols) | (ct <  (1.0/threshols))].dropna(how='all',axis=1).dropna(how='all',axis=0)\n",
    "    if res.shape[0] > 0:\n",
    "        col1 = res.index.name\n",
    "        col2 = res.columns.name\n",
    "        for row in res.iterrows():\n",
    "            for idx,val in enumerate(row[1],0):\n",
    "                if val > 0:\n",
    "                    arr.append([col1,row[0],col2,row[1].keys()[idx],val])\n",
    "                    #print \"%s: %s and %s: %s are %.2f\" % (col1,row[0],col2,row[1].keys()[idx],val)\n",
    "    ct = pd.crosstab(diabetic_data[comb[1]],diabetic_data[comb[0]])\n",
    "    ct = ct[ct>samples_thres].fillna(0).apply(lambda r: r/r.sum(), axis=1).apply(lambda r: r/r.sum(), axis=1)\n",
    "    distribution = diabetic_data[comb[0]].value_counts(normalize=True)\n",
    "    for col in ct.columns:\n",
    "        ct[col]=  ct[col] / distribution[col]\n",
    "    res = ct[(ct> threshols) | (ct <  (1.0/threshols))].dropna(how='all',axis=1).dropna(how='all',axis=0)\n",
    "    if res.shape[0] > 0:\n",
    "        col1 = res.index.name\n",
    "        col2 = res.columns.name\n",
    "        for row in res.iterrows():\n",
    "            for idx,val in enumerate(row[1],0):\n",
    "                if val > 0:\n",
    "                    arr.append([col1,row[0],col2,row[1].keys()[idx],val])\n",
    "                        #print \"%s: %s and %s: %s are %.2f\" % (col1,row[0],col2,row[1].keys()[idx],val)\n",
    "\n"
   ]
  },
  {
   "cell_type": "code",
   "execution_count": 249,
   "metadata": {
    "collapsed": true
   },
   "outputs": [],
   "source": [
    "res_df = pd.DataFrame(arr,columns = ['feature 1','value 1','feature 2','value 2','ratio'])"
   ]
  },
  {
   "cell_type": "code",
   "execution_count": 250,
   "metadata": {
    "collapsed": false
   },
   "outputs": [],
   "source": [
    "res_df.to_csv('res_all_encounters.csv',index=False)"
   ]
  },
  {
   "cell_type": "code",
   "execution_count": 10,
   "metadata": {
    "collapsed": true
   },
   "outputs": [],
   "source": [
    "diabetic_data['encounter_id'] = diabetic_data['encounter_id'].astype('int')\n",
    "\n",
    "patient_first_encounter = diabetic_data[[u'encounter_id', u'patient_nbr']].groupby('patient_nbr').min()['encounter_id'].reset_index()\n",
    "\n",
    "diabetic_data_first_encounter = diabetic_data.merge(patient_first_encounter,on=['patient_nbr','encounter_id'])"
   ]
  },
  {
   "cell_type": "code",
   "execution_count": 112,
   "metadata": {
    "collapsed": false
   },
   "outputs": [],
   "source": [
    "arr = []\n",
    "threshols = 1.5\n",
    "samples_thres = 100\n",
    "for comb in combinations(nominal_columns + numeric_columns,2):\n",
    "    ct = pd.crosstab(diabetic_data_first_encounter[comb[0]],diabetic_data_first_encounter[comb[1]])\n",
    "    norm_ct = ct.fillna(0).apply(lambda r: r/r.sum(), axis=1).apply(lambda r: r/r.sum(), axis=1)\n",
    "    norm_ct = norm_ct[ct>samples_thres].fillna(0)\n",
    "    distribution = diabetic_data_first_encounter[comb[1]].value_counts(normalize=True)\n",
    "    for col in norm_ct.columns:\n",
    "        norm_ct[col] =  norm_ct[col] / distribution[col]\n",
    "    res = norm_ct[(norm_ct> threshols) | (norm_ct <  (1.0/threshols))].dropna(how='all',axis=1).dropna(how='all',axis=0)\n",
    "    if res.shape[0] > 0:\n",
    "        col1 = res.index.name\n",
    "        col2 = res.columns.name\n",
    "        for row in res.iterrows():\n",
    "            for idx,val in enumerate(row[1],0):\n",
    "                if val > 0:\n",
    "                    arr.append([col1,row[0],col2,row[1].keys()[idx],val,ct.loc[row[0],row[1].keys()[idx]]])\n",
    "\n",
    "#                     #print \"%s: %s and %s: %s are %.2f\" % (col1,row[0],col2,row[1].keys()[idx],val)\n",
    "#     ct = pd.crosstab(diabetic_data_first_encounter[comb[1]],diabetic_data_first_encounter[comb[0]])\n",
    "#     norm_ct = ct.fillna(0).apply(lambda r: r/r.sum(), axis=1).apply(lambda r: r/r.sum(), axis=1)\n",
    "#     norm_ct = norm_ct[ct>samples_thres].fillna(0)\n",
    "#     distribution = diabetic_data_first_encounter[comb[0]].value_counts(normalize=True)\n",
    "#     for col in norm_ct.columns:\n",
    "#         norm_ct[col] =  norm_ct[col] / distribution[col]\n",
    "#     res = norm_ct[(norm_ct> threshols) | (norm_ct <  (1.0/threshols))].dropna(how='all',axis=1).dropna(how='all',axis=0)\n",
    "#     if res.shape[0] > 0:\n",
    "#         col1 = res.index.name\n",
    "#         col2 = res.columns.name\n",
    "#         for row in res.iterrows():\n",
    "#             for idx,val in enumerate(row[1],0):\n",
    "#                 if val > 0:\n",
    "#                     arr.append([col1,row[0],col2,row[1].keys()[idx],val,ct.loc[row[0],row[1].keys()[idx]]])\n",
    "\n",
    "                        #print \"%s: %s and %s: %s are %.2f\" % (col1,row[0],col2,row[1].keys()[idx],val)\n"
   ]
  },
  {
   "cell_type": "code",
   "execution_count": 114,
   "metadata": {
    "collapsed": false
   },
   "outputs": [],
   "source": [
    "res_df = pd.DataFrame(arr,columns = ['feature 1','value 1','feature 2','value 2','ratio','num samples'])\n",
    "res_df.to_csv('res_first_encounter.csv',index=False)"
   ]
  },
  {
   "cell_type": "code",
   "execution_count": 125,
   "metadata": {
    "collapsed": false
   },
   "outputs": [
    {
     "name": "stdout",
     "output_type": "stream",
     "text": [
      "[0-10)\n",
      "[10-20)\n",
      "[20-30)\n",
      "[30-40)\n",
      "[40-50)\n",
      "[50-60)\n",
      "[60-70)\n",
      "[70-80)\n",
      "[80-90)\n",
      "[90-100)\n"
     ]
    },
    {
     "data": {
      "text/plain": [
       "<matplotlib.axes._subplots.AxesSubplot at 0x7f43b6f384d0>"
      ]
     },
     "execution_count": 125,
     "metadata": {},
     "output_type": "execute_result"
    },
    {
     "data": {
      "image/png": "[encoded data removed]",
      "text/plain": [
       "<matplotlib.figure.Figure at 0x7f43b6e00c90>"
      ]
     },
     "metadata": {},
     "output_type": "display_data"
    }
   ],
   "source": [
    "# ct.loc['AfricanAmerican','Hypertensive renal disease  ']\n",
    "\n",
    "# norm_ct = ct.fillna(0).apply(lambda r: r/r.sum(), axis=1).apply(lambda r: r/r.sum(), axis=1)#.loc[:,'Hypertensive renal disease  ']\n",
    "\n",
    "# norm_ct[ct>samples_thres].loc[:,'Hypertensive renal disease  ']\n",
    "\n",
    "# ct[ct>samples_thres].loc[:,'Hypertensive renal disease  ']\n",
    "\n",
    "# 124.0/323\n",
    "\n",
    "# diabetic_data_first_encounter['race'].unique()\n",
    "\n",
    "arr = []\n",
    "for age in diabetic_data_first_encounter['age'].unique():\n",
    "    print age\n",
    "    try:\n",
    "        val = diabetic_data_first_encounter[diabetic_data_first_encounter['age']==age]\\\n",
    "    ['diag_1'].value_counts(normalize=True)['250.13']\n",
    "    except:\n",
    "        val = 0\n",
    "    arr.append([age,val])\n",
    "\n",
    "plt_df = pd.DataFrame(arr,columns=['age','probability'])\n",
    "\n",
    "plt_df.set_index('age').plot(kind='bar')\n",
    "\n",
    "# diabetic_data_first_encounter['diag_1'].value_counts(normalize=True)['Hypertensive renal disease  ']\n",
    "\n",
    "# diabetic_data_first_encounter[diabetic_data_first_encounter['race']=='Hispanic']\\\n",
    "# ['diag_1'].value_counts(normalize=True)['Hypertensive renal disease  ']"
   ]
  },
  {
   "cell_type": "code",
   "execution_count": 122,
   "metadata": {
    "collapsed": false
   },
   "outputs": [
    {
     "data": {
      "text/plain": [
       "['Other bacterial pneumonia  ',\n",
       " 'Other congenital anomalies of digestive',\n",
       " 'Diabetes mellitus   ',\n",
       " 'Other disorders of urethra and',\n",
       " 'Acute appendicitis   ',\n",
       " 'Epilepsy    ',\n",
       " 'Disorders of fluid',\n",
       " 'Pneumonia due to other specified',\n",
       " '250.03',\n",
       " '250.02',\n",
       " '250.01',\n",
       " '250.83',\n",
       " '250.81',\n",
       " '79',\n",
       " 'General symptoms   ',\n",
       " 'Other symptoms involving abdomen and',\n",
       " 'Pneumonia',\n",
       " 'Acute bronchitis and bronchiolitis ',\n",
       " 'Symptoms involving respiratory system and',\n",
       " 'V58',\n",
       " '250.33',\n",
       " '250.31',\n",
       " 'Viral pneumonia   ',\n",
       " '250.11',\n",
       " '250.12',\n",
       " '250.13',\n",
       " 'Asthma    ',\n",
       " 'Other cellulitis and abscess ',\n",
       " '250.93',\n",
       " 'Gastritis and duodenitis  ']"
      ]
     },
     "execution_count": 122,
     "metadata": {},
     "output_type": "execute_result"
    }
   ],
   "source": [
    "dict(diabetic_data_first_encounter[diabetic_data_first_encounter['age']==age]\\\n",
    "['diag_1'].value_counts(normalize=True)).keys()"
   ]
  },
  {
   "cell_type": "code",
   "execution_count": null,
   "metadata": {
    "collapsed": true
   },
   "outputs": [],
   "source": []
  },
  {
   "cell_type": "code",
   "execution_count": 286,
   "metadata": {
    "collapsed": false
   },
   "outputs": [],
   "source": [
    "# patient_num_encounters = diabetic_data[[u'encounter_id', u'patient_nbr']].groupby('patient_nbr').size().reset_index()\n",
    "\n",
    "# diabetic_data_num_encounters = diabetic_data.merge(patient_num_encounters,on=['patient_nbr'])"
   ]
  },
  {
   "cell_type": "code",
   "execution_count": 287,
   "metadata": {
    "collapsed": false
   },
   "outputs": [],
   "source": [
    "#diabetic_data_num_encounters[diabetic_data_num_encounters[0]>2]['change'].value_counts(normalize=True)"
   ]
  },
  {
   "cell_type": "code",
   "execution_count": 288,
   "metadata": {
    "collapsed": false
   },
   "outputs": [],
   "source": [
    "#diabetic_data_num_encounters['change'].value_counts(normalize=True)"
   ]
  },
  {
   "cell_type": "markdown",
   "metadata": {},
   "source": [
    "# Clustering"
   ]
  },
  {
   "cell_type": "code",
   "execution_count": 332,
   "metadata": {
    "collapsed": true
   },
   "outputs": [],
   "source": [
    "# patient_features  = [u'race', u'gender', u'age',u'admission_type_id',u'admission_source_id',\\\n",
    "#                      u'payer_code',u'number_outpatient', u'number_emergency',u'number_inpatient']\n",
    "patient_features  = [u'race', u'gender', u'age',u'admission_type_id',u'admission_source_id',\\\n",
    "                      u'payer_code']"
   ]
  },
  {
   "cell_type": "code",
   "execution_count": 333,
   "metadata": {
    "collapsed": false
   },
   "outputs": [
    {
     "name": "stderr",
     "output_type": "stream",
     "text": [
      "/home/lizard/anaconda2/lib/python2.7/site-packages/ipykernel/__main__.py:6: SettingWithCopyWarning: \n",
      "A value is trying to be set on a copy of a slice from a DataFrame.\n",
      "Try using .loc[row_indexer,col_indexer] = value instead\n",
      "\n",
      "See the caveats in the documentation: http://pandas.pydata.org/pandas-docs/stable/indexing.html#indexing-view-versus-copy\n"
     ]
    }
   ],
   "source": [
    "patient_df = diabetic_data_first_encounter[patient_features]\n",
    "\n",
    "def get_age(age_group):\n",
    "    return np.mean([int(x) for x in age_group.replace('[','').replace(')','').split('-')])\n",
    "\n",
    "patient_df['age'] = patient_df['age'].apply(get_age)"
   ]
  },
  {
   "cell_type": "code",
   "execution_count": 334,
   "metadata": {
    "collapsed": false
   },
   "outputs": [
    {
     "name": "stderr",
     "output_type": "stream",
     "text": [
      "/home/lizard/anaconda2/lib/python2.7/site-packages/ipykernel/__main__.py:4: SettingWithCopyWarning: \n",
      "A value is trying to be set on a copy of a slice from a DataFrame.\n",
      "Try using .loc[row_indexer,col_indexer] = value instead\n",
      "\n",
      "See the caveats in the documentation: http://pandas.pydata.org/pandas-docs/stable/indexing.html#indexing-view-versus-copy\n"
     ]
    }
   ],
   "source": [
    "#cols_to_normalize = ['age','number_outpatient','number_emergency','number_inpatient']\n",
    "cols_to_normalize = ['age']\n",
    "for col in cols_to_normalize:\n",
    "    patient_df[col] = (patient_df[col] - patient_df[col].min()) / (patient_df[col].max() - patient_df[col].min())"
   ]
  },
  {
   "cell_type": "code",
   "execution_count": 335,
   "metadata": {
    "collapsed": true
   },
   "outputs": [],
   "source": [
    "cols_to_one_hot = [u'race', u'gender',u'admission_type_id',u'admission_source_id',u'payer_code']"
   ]
  },
  {
   "cell_type": "code",
   "execution_count": 336,
   "metadata": {
    "collapsed": false
   },
   "outputs": [],
   "source": [
    "dummy_df = pd.get_dummies(patient_df[cols_to_one_hot])"
   ]
  },
  {
   "cell_type": "code",
   "execution_count": 337,
   "metadata": {
    "collapsed": false
   },
   "outputs": [],
   "source": [
    "patient_df = pd.concat([patient_df,dummy_df],axis=1)"
   ]
  },
  {
   "cell_type": "code",
   "execution_count": 338,
   "metadata": {
    "collapsed": false
   },
   "outputs": [],
   "source": [
    "for col in cols_to_one_hot:\n",
    "    del patient_df[col]"
   ]
  },
  {
   "cell_type": "code",
   "execution_count": 339,
   "metadata": {
    "collapsed": false
   },
   "outputs": [
    {
     "data": {
      "text/plain": [
       "168"
      ]
     },
     "execution_count": 339,
     "metadata": {},
     "output_type": "execute_result"
    }
   ],
   "source": [
    "gc.collect()"
   ]
  },
  {
   "cell_type": "code",
   "execution_count": 346,
   "metadata": {
    "collapsed": false
   },
   "outputs": [
    {
     "name": "stdout",
     "output_type": "stream",
     "text": [
      "40 0.408269971129\n"
     ]
    },
    {
     "data": {
      "text/plain": [
       "90"
      ]
     },
     "execution_count": 346,
     "metadata": {},
     "output_type": "execute_result"
    }
   ],
   "source": [
    "#Find best k\n",
    "res = []\n",
    "k = 40\n",
    "kmeans = KMeans(n_clusters=k,random_state=0,n_jobs=3).fit(patient_df)\n",
    "patient_df['cluster'] = kmeans.labels_\n",
    "del kmeans\n",
    "sample = patient_df.sample(5000)\n",
    "score = metrics.silhouette_score(sample.iloc[:,:-1],sample.iloc[:,-1])\n",
    "print k,score\n",
    "res.append(score)\n",
    "gc.collect()"
   ]
  },
  {
   "cell_type": "code",
   "execution_count": 460,
   "metadata": {
    "collapsed": false
   },
   "outputs": [],
   "source": [
    "metrics.silhouette_score?"
   ]
  },
  {
   "cell_type": "code",
   "execution_count": 461,
   "metadata": {
    "collapsed": false
   },
   "outputs": [],
   "source": [
    "best_k = 8\n",
    "kmeans = KMeans(n_clusters=best_k,random_state=0,n_jobs=3).fit(patient_df)"
   ]
  },
  {
   "cell_type": "code",
   "execution_count": 462,
   "metadata": {
    "collapsed": false
   },
   "outputs": [],
   "source": [
    "patient_df['cluster'] = kmeans.labels_"
   ]
  },
  {
   "cell_type": "code",
   "execution_count": 423,
   "metadata": {
    "collapsed": true
   },
   "outputs": [],
   "source": [
    "mean = patient_df.iloc[:,:-1].mean(axis=1)\n",
    "std = patient_df.iloc[:,:-1].std(axis=1)\n",
    "res = pd.DataFrame(zip(mean,std,kmeans.labels_) )"
   ]
  },
  {
   "cell_type": "code",
   "execution_count": 463,
   "metadata": {
    "collapsed": false
   },
   "outputs": [],
   "source": [
    "diabetic_data_first_encounter['cluster'] = kmeans.labels_"
   ]
  },
  {
   "cell_type": "code",
   "execution_count": 472,
   "metadata": {
    "collapsed": false
   },
   "outputs": [
    {
     "data": {
      "text/plain": [
       "[70-80)     0.267825\n",
       "[80-90)     0.225884\n",
       "[60-70)     0.192431\n",
       "[50-60)     0.137807\n",
       "[40-50)     0.077192\n",
       "[90-100)    0.047334\n",
       "[30-40)     0.032554\n",
       "[20-30)     0.011784\n",
       "[10-20)     0.006291\n",
       "[0-10)      0.000899\n",
       "Name: age, dtype: float64"
      ]
     },
     "execution_count": 472,
     "metadata": {},
     "output_type": "execute_result"
    }
   ],
   "source": [
    "diabetic_data_first_encounter[diabetic_data_first_encounter['cluster']==6]['age'].value_counts(normalize=True)"
   ]
  },
  {
   "cell_type": "code",
   "execution_count": null,
   "metadata": {
    "collapsed": true
   },
   "outputs": [],
   "source": []
  },
  {
   "cell_type": "code",
   "execution_count": 401,
   "metadata": {
    "collapsed": true
   },
   "outputs": [],
   "source": [
    "from sklearn.decomposition import PCA"
   ]
  },
  {
   "cell_type": "code",
   "execution_count": 451,
   "metadata": {
    "collapsed": true
   },
   "outputs": [],
   "source": [
    "reduced_data = PCA(n_components=2).fit_transform(kmeans.cluster_centers_)"
   ]
  },
  {
   "cell_type": "code",
   "execution_count": 452,
   "metadata": {
    "collapsed": false
   },
   "outputs": [],
   "source": [
    "pca_df = pd.DataFrame(reduced_data)"
   ]
  },
  {
   "cell_type": "code",
   "execution_count": 453,
   "metadata": {
    "collapsed": false
   },
   "outputs": [
    {
     "data": {
      "text/plain": [
       "(40, 2)"
      ]
     },
     "execution_count": 453,
     "metadata": {},
     "output_type": "execute_result"
    }
   ],
   "source": [
    "pca_df.shape"
   ]
  },
  {
   "cell_type": "code",
   "execution_count": 454,
   "metadata": {
    "collapsed": true
   },
   "outputs": [],
   "source": [
    "samp= pca_df.values"
   ]
  },
  {
   "cell_type": "code",
   "execution_count": 449,
   "metadata": {
    "collapsed": true
   },
   "outputs": [],
   "source": [
    "samp = pca_df[(pca_df['cluster'] == 0)].sample(200).values"
   ]
  },
  {
   "cell_type": "code",
   "execution_count": 458,
   "metadata": {
    "collapsed": false
   },
   "outputs": [
    {
     "data": {
      "text/plain": [
       "<matplotlib.collections.PathCollection at 0x7f44ad82f950>"
      ]
     },
     "execution_count": 458,
     "metadata": {},
     "output_type": "execute_result"
    },
    {
     "data": {
      "image/png": "[encoded data removed]",
      "text/plain": [
       "<matplotlib.figure.Figure at 0x7f44ada862d0>"
      ]
     },
     "metadata": {},
     "output_type": "display_data"
    }
   ],
   "source": [
    "plt.figure(figsize = (10,10))\n",
    "plt.scatter(samp[:, 0], samp[:, 1],c = range(40))"
   ]
  },
  {
   "cell_type": "code",
   "execution_count": null,
   "metadata": {
    "collapsed": true
   },
   "outputs": [],
   "source": []
  },
  {
   "cell_type": "code",
   "execution_count": 353,
   "metadata": {
    "collapsed": false
   },
   "outputs": [
    {
     "name": "stdout",
     "output_type": "stream",
     "text": [
      "3456\n",
      "1754\n",
      "5943\n",
      "1552\n",
      "1683\n",
      "2622\n",
      "1896\n",
      "1753\n",
      "3972\n",
      "2511\n",
      "2559\n",
      "1628\n",
      "5194\n",
      "4337\n",
      "756\n",
      "1043\n",
      "1458\n",
      "1365\n",
      "1357\n",
      "851\n",
      "1789\n",
      "1049\n",
      "1760\n",
      "1226\n",
      "997\n",
      "1068\n",
      "507\n",
      "901\n",
      "2084\n",
      "1577\n",
      "661\n",
      "585\n",
      "2072\n",
      "742\n",
      "436\n",
      "740\n",
      "1914\n",
      "1478\n",
      "1462\n",
      "780\n"
     ]
    }
   ],
   "source": [
    "for i in range(40):\n",
    "    print diabetic_data_first_encounter[diabetic_data_first_encounter['cluster']==i].shape[0]"
   ]
  },
  {
   "cell_type": "code",
   "execution_count": 68,
   "metadata": {
    "collapsed": true
   },
   "outputs": [],
   "source": [
    "patient_df = diabetic_data_first_encounter[patient_features]"
   ]
  },
  {
   "cell_type": "code",
   "execution_count": 59,
   "metadata": {
    "collapsed": true
   },
   "outputs": [],
   "source": [
    "race_dict = dict(zip(patient_df['race'].unique(),range(patient_df['race'].nunique())))\n",
    "gender_dict = dict(zip(patient_df['gender'].unique(),range(patient_df['gender'].nunique())))\n",
    "payer_code_dict = dict(zip(patient_df['payer_code'].unique(),range(patient_df['payer_code'].nunique())))"
   ]
  },
  {
   "cell_type": "code",
   "execution_count": 10,
   "metadata": {
    "collapsed": false
   },
   "outputs": [
    {
     "data": {
      "text/plain": [
       "{'?': 2,\n",
       " 'AfricanAmerican': 1,\n",
       " 'Asian': 4,\n",
       " 'Caucasian': 0,\n",
       " 'Hispanic': 5,\n",
       " 'Other': 3}"
      ]
     },
     "execution_count": 10,
     "metadata": {},
     "output_type": "execute_result"
    }
   ],
   "source": [
    "race_dict"
   ]
  },
  {
   "cell_type": "code",
   "execution_count": 61,
   "metadata": {
    "collapsed": false
   },
   "outputs": [
    {
     "name": "stderr",
     "output_type": "stream",
     "text": [
      "/home/lizard/anaconda2/lib/python2.7/site-packages/ipykernel/__main__.py:3: SettingWithCopyWarning: \n",
      "A value is trying to be set on a copy of a slice from a DataFrame.\n",
      "Try using .loc[row_indexer,col_indexer] = value instead\n",
      "\n",
      "See the caveats in the documentation: http://pandas.pydata.org/pandas-docs/stable/indexing.html#indexing-view-versus-copy\n",
      "  app.launch_new_instance()\n"
     ]
    }
   ],
   "source": [
    "patient_df['race'] = patient_df['race'].apply(lambda x :race_dict[x])\n",
    "patient_df['gender'] = patient_df['gender'].apply(lambda x :gender_dict[x])\n",
    "patient_df['payer_code'] = patient_df['payer_code'].apply(lambda x :payer_code_dict[x])"
   ]
  },
  {
   "cell_type": "code",
   "execution_count": 16,
   "metadata": {
    "collapsed": true
   },
   "outputs": [],
   "source": [
    "from scipy.spatial import distance"
   ]
  },
  {
   "cell_type": "code",
   "execution_count": 27,
   "metadata": {
    "collapsed": false
   },
   "outputs": [
    {
     "data": {
      "text/html": [
       "<div>\n",
       "<table border=\"1\" class=\"dataframe\">\n",
       "  <thead>\n",
       "    <tr style=\"text-align: right;\">\n",
       "      <th></th>\n",
       "      <th>race</th>\n",
       "      <th>gender</th>\n",
       "      <th>age</th>\n",
       "      <th>admission_type_id</th>\n",
       "      <th>admission_source_id</th>\n",
       "      <th>payer_code</th>\n",
       "      <th>number_outpatient</th>\n",
       "      <th>number_emergency</th>\n",
       "      <th>number_inpatient</th>\n",
       "    </tr>\n",
       "  </thead>\n",
       "  <tbody>\n",
       "    <tr>\n",
       "      <th>57959</th>\n",
       "      <td>0</td>\n",
       "      <td>1</td>\n",
       "      <td>95</td>\n",
       "      <td>1</td>\n",
       "      <td>7</td>\n",
       "      <td>MC</td>\n",
       "      <td>2</td>\n",
       "      <td>0</td>\n",
       "      <td>0</td>\n",
       "    </tr>\n",
       "  </tbody>\n",
       "</table>\n",
       "</div>"
      ],
      "text/plain": [
       "       race  gender  age  admission_type_id  admission_source_id payer_code  \\\n",
       "57959     0       1   95                  1                    7         MC   \n",
       "\n",
       "       number_outpatient  number_emergency  number_inpatient  \n",
       "57959                  2                 0                 0  "
      ]
     },
     "execution_count": 27,
     "metadata": {},
     "output_type": "execute_result"
    }
   ],
   "source": [
    "patient_df.sample()"
   ]
  },
  {
   "cell_type": "code",
   "execution_count": 36,
   "metadata": {
    "collapsed": false
   },
   "outputs": [
    {
     "name": "stderr",
     "output_type": "stream",
     "text": [
      "/home/lizard/anaconda2/lib/python2.7/site-packages/ipykernel/__main__.py:3: SettingWithCopyWarning: \n",
      "A value is trying to be set on a copy of a slice from a DataFrame.\n",
      "Try using .loc[row_indexer,col_indexer] = value instead\n",
      "\n",
      "See the caveats in the documentation: http://pandas.pydata.org/pandas-docs/stable/indexing.html#indexing-view-versus-copy\n",
      "  app.launch_new_instance()\n"
     ]
    }
   ],
   "source": [
    "cols_to_normalize = ['age','number_outpatient','number_emergency','number_inpatient']\n",
    "for col in cols_to_normalize:\n",
    "    patient_df[col] = (patient_df[col] - patient_df[col].min()) / (patient_df[col].max() - patient_df[col].min())"
   ]
  },
  {
   "cell_type": "code",
   "execution_count": 46,
   "metadata": {
    "collapsed": true
   },
   "outputs": [],
   "source": [
    "nominal_indices = [0,1,3,4,5]\n",
    "numeric_indices = [2,6,7,8]"
   ]
  },
  {
   "cell_type": "code",
   "execution_count": 173,
   "metadata": {
    "collapsed": false
   },
   "outputs": [],
   "source": [
    "nominal_coefficient = []\n",
    "for i in range(6):\n",
    "    nominal_coefficient.append({})\n",
    "for idx in nominal_indices:\n",
    "    nominal_coefficient[idx] = dict(1 / patient_df.iloc[:,idx].value_counts(normalize=True))"
   ]
  },
  {
   "cell_type": "code",
   "execution_count": 195,
   "metadata": {
    "collapsed": true
   },
   "outputs": [],
   "source": [
    "def get_similarity(x_1,x_2):\n",
    "    sim = np.zeros(9)\n",
    "    sim[nominal_indices] =  [int(x) for x in x_1[nominal_indices] == x_2[nominal_indices]]\n",
    "    for idx in nominal_indices:\n",
    "        sim[idx] = sim[idx] * nominal_coefficient[idx][int(x_1[idx])]\n",
    "    sim[numeric_indices] = 1 - np.abs(x_1[numeric_indices] - x_2[numeric_indices])   \n",
    "    return np.mean(sim)"
   ]
  },
  {
   "cell_type": "code",
   "execution_count": 202,
   "metadata": {
    "collapsed": false
   },
   "outputs": [],
   "source": [
    "sample_df = patient_df.sample(10000)"
   ]
  },
  {
   "cell_type": "code",
   "execution_count": 203,
   "metadata": {
    "collapsed": true
   },
   "outputs": [],
   "source": [
    "vals = sample_df.values"
   ]
  },
  {
   "cell_type": "code",
   "execution_count": 204,
   "metadata": {
    "collapsed": false
   },
   "outputs": [
    {
     "name": "stdout",
     "output_type": "stream",
     "text": [
      "2019-04-29 23:09:28.017828\n",
      "2019-04-30 00:40:11.909522\n"
     ]
    }
   ],
   "source": [
    "import datetime\n",
    "print datetime.datetime.now()\n",
    "dist = distance.cdist(vals, vals, get_similarity)\n",
    "print datetime.datetime.now()"
   ]
  },
  {
   "cell_type": "code",
   "execution_count": 207,
   "metadata": {
    "collapsed": false
   },
   "outputs": [],
   "source": [
    "import pickle\n",
    "with open ('dist.pkl','wb') as f:\n",
    "    pickle.dump(dist,f)"
   ]
  },
  {
   "cell_type": "code",
   "execution_count": 215,
   "metadata": {
    "collapsed": true
   },
   "outputs": [],
   "source": [
    "sample_df.to_csv('sample.csv')"
   ]
  },
  {
   "cell_type": "code",
   "execution_count": 219,
   "metadata": {
    "collapsed": true
   },
   "outputs": [],
   "source": [
    "diabetic_data_first_encounter.to_csv('diabetic_data_first_encounter.csv')"
   ]
  },
  {
   "cell_type": "code",
   "execution_count": 221,
   "metadata": {
    "collapsed": true
   },
   "outputs": [],
   "source": [
    "patient_df.to_csv('patient_df.csv')"
   ]
  },
  {
   "cell_type": "code",
   "execution_count": 220,
   "metadata": {
    "collapsed": false
   },
   "outputs": [
    {
     "data": {
      "text/plain": [
       "(71518, 9)"
      ]
     },
     "execution_count": 220,
     "metadata": {},
     "output_type": "execute_result"
    }
   ],
   "source": [
    "patient_df.shape"
   ]
  },
  {
   "cell_type": "code",
   "execution_count": 475,
   "metadata": {
    "collapsed": false
   },
   "outputs": [
    {
     "data": {
      "text/plain": [
       "0.9565763353412825"
      ]
     },
     "execution_count": 475,
     "metadata": {},
     "output_type": "execute_result"
    }
   ],
   "source": [
    "dist[0][10]"
   ]
  },
  {
   "cell_type": "code",
   "execution_count": 218,
   "metadata": {
    "collapsed": false
   },
   "outputs": [
    {
     "data": {
      "text/html": [
       "<div>\n",
       "<table border=\"1\" class=\"dataframe\">\n",
       "  <thead>\n",
       "    <tr style=\"text-align: right;\">\n",
       "      <th></th>\n",
       "      <th>encounter_id</th>\n",
       "      <th>patient_nbr</th>\n",
       "      <th>race</th>\n",
       "      <th>gender</th>\n",
       "      <th>age</th>\n",
       "      <th>weight</th>\n",
       "      <th>admission_type_id</th>\n",
       "      <th>discharge_disposition_id</th>\n",
       "      <th>admission_source_id</th>\n",
       "      <th>time_in_hospital</th>\n",
       "      <th>...</th>\n",
       "      <th>citoglipton</th>\n",
       "      <th>insulin</th>\n",
       "      <th>glyburide-metformin</th>\n",
       "      <th>glipizide-metformin</th>\n",
       "      <th>glimepiride-pioglitazone</th>\n",
       "      <th>metformin-rosiglitazone</th>\n",
       "      <th>metformin-pioglitazone</th>\n",
       "      <th>change</th>\n",
       "      <th>diabetesMed</th>\n",
       "      <th>readmitted</th>\n",
       "    </tr>\n",
       "  </thead>\n",
       "  <tbody>\n",
       "    <tr>\n",
       "      <th>30393</th>\n",
       "      <td>124285368</td>\n",
       "      <td>41430330</td>\n",
       "      <td>Caucasian</td>\n",
       "      <td>Male</td>\n",
       "      <td>[70-80)</td>\n",
       "      <td>?</td>\n",
       "      <td>1</td>\n",
       "      <td>3</td>\n",
       "      <td>7</td>\n",
       "      <td>13</td>\n",
       "      <td>...</td>\n",
       "      <td>No</td>\n",
       "      <td>Steady</td>\n",
       "      <td>No</td>\n",
       "      <td>No</td>\n",
       "      <td>No</td>\n",
       "      <td>No</td>\n",
       "      <td>No</td>\n",
       "      <td>No</td>\n",
       "      <td>Yes</td>\n",
       "      <td>&gt;30</td>\n",
       "    </tr>\n",
       "    <tr>\n",
       "      <th>26838</th>\n",
       "      <td>109803996</td>\n",
       "      <td>23666013</td>\n",
       "      <td>Caucasian</td>\n",
       "      <td>Male</td>\n",
       "      <td>[70-80)</td>\n",
       "      <td>?</td>\n",
       "      <td>1</td>\n",
       "      <td>6</td>\n",
       "      <td>7</td>\n",
       "      <td>4</td>\n",
       "      <td>...</td>\n",
       "      <td>No</td>\n",
       "      <td>Steady</td>\n",
       "      <td>No</td>\n",
       "      <td>No</td>\n",
       "      <td>No</td>\n",
       "      <td>No</td>\n",
       "      <td>No</td>\n",
       "      <td>Ch</td>\n",
       "      <td>Yes</td>\n",
       "      <td>NO</td>\n",
       "    </tr>\n",
       "  </tbody>\n",
       "</table>\n",
       "<p>2 rows × 50 columns</p>\n",
       "</div>"
      ],
      "text/plain": [
       "       encounter_id  patient_nbr       race gender      age weight  \\\n",
       "30393     124285368     41430330  Caucasian   Male  [70-80)      ?   \n",
       "26838     109803996     23666013  Caucasian   Male  [70-80)      ?   \n",
       "\n",
       "       admission_type_id  discharge_disposition_id  admission_source_id  \\\n",
       "30393                  1                         3                    7   \n",
       "26838                  1                         6                    7   \n",
       "\n",
       "       time_in_hospital    ...     citoglipton insulin  glyburide-metformin  \\\n",
       "30393                13    ...              No  Steady                   No   \n",
       "26838                 4    ...              No  Steady                   No   \n",
       "\n",
       "       glipizide-metformin  glimepiride-pioglitazone  metformin-rosiglitazone  \\\n",
       "30393                   No                        No                       No   \n",
       "26838                   No                        No                       No   \n",
       "\n",
       "       metformin-pioglitazone  change diabetesMed readmitted  \n",
       "30393                      No      No         Yes        >30  \n",
       "26838                      No      Ch         Yes         NO  \n",
       "\n",
       "[2 rows x 50 columns]"
      ]
     },
     "execution_count": 218,
     "metadata": {},
     "output_type": "execute_result"
    }
   ],
   "source": [
    "diabetic_data_first_encounter.iloc[sample_df.head(2).index,:]"
   ]
  },
  {
   "cell_type": "code",
   "execution_count": 222,
   "metadata": {
    "collapsed": false
   },
   "outputs": [
    {
     "data": {
      "text/plain": [
       "4"
      ]
     },
     "execution_count": 222,
     "metadata": {},
     "output_type": "execute_result"
    }
   ],
   "source": [
    "dist[5][1:].argmax()"
   ]
  },
  {
   "cell_type": "code",
   "execution_count": 208,
   "metadata": {
    "collapsed": false
   },
   "outputs": [
    {
     "data": {
      "text/plain": [
       "55"
      ]
     },
     "execution_count": 208,
     "metadata": {},
     "output_type": "execute_result"
    }
   ],
   "source": [
    "gc.collect()"
   ]
  },
  {
   "cell_type": "code",
   "execution_count": 476,
   "metadata": {
    "collapsed": false
   },
   "outputs": [
    {
     "data": {
      "text/plain": [
       "numpy.ndarray"
      ]
     },
     "execution_count": 476,
     "metadata": {},
     "output_type": "execute_result"
    }
   ],
   "source": [
    "type(dist)"
   ]
  },
  {
   "cell_type": "code",
   "execution_count": null,
   "metadata": {
    "collapsed": true
   },
   "outputs": [],
   "source": [
    "G=nx.from_numpy_matrix(dist)"
   ]
  },
  {
   "cell_type": "code",
   "execution_count": 48,
   "metadata": {
    "collapsed": false
   },
   "outputs": [
    {
     "data": {
      "text/plain": [
       "[u'race',\n",
       " u'gender',\n",
       " u'age',\n",
       " u'admission_type_id',\n",
       " u'admission_source_id',\n",
       " u'payer_code',\n",
       " u'number_outpatient',\n",
       " u'number_emergency',\n",
       " u'number_inpatient']"
      ]
     },
     "execution_count": 48,
     "metadata": {},
     "output_type": "execute_result"
    }
   ],
   "source": [
    "patient_features"
   ]
  },
  {
   "cell_type": "code",
   "execution_count": 44,
   "metadata": {
    "collapsed": false
   },
   "outputs": [
    {
     "data": {
      "image/png": "[encoded data removed]",
      "text/plain": [
       "<matplotlib.figure.Figure at 0x7f4304fc9e50>"
      ]
     },
     "metadata": {},
     "output_type": "display_data"
    }
   ],
   "source": [
    "\n",
    "#better with karate_graph() as defined in networkx example.\n",
    "#erdos renyi don't have true community structure\n",
    "G = nx.erdos_renyi_graph(30, 0.05)\n",
    "\n",
    "#first compute the best partition\n",
    "partition = community.best_partition(G)\n",
    "\n",
    "#drawing\n",
    "size = float(len(set(partition.values())))\n",
    "pos = nx.spring_layout(G)\n",
    "count = 0.\n",
    "for com in set(partition.values()) :\n",
    "    count = count + 1.\n",
    "    list_nodes = [nodes for nodes in partition.keys()\n",
    "                                if partition[nodes] == com]\n",
    "    nx.draw_networkx_nodes(G, pos, list_nodes, node_size = 20,\n",
    "                                node_color = str(count / size))\n",
    "\n",
    "\n",
    "nx.draw_networkx_edges(G, pos, alpha=0.5)\n",
    "plt.show()"
   ]
  },
  {
   "cell_type": "code",
   "execution_count": 45,
   "metadata": {
    "collapsed": false
   },
   "outputs": [
    {
     "data": {
      "text/plain": [
       "{0: 0,\n",
       " 1: 1,\n",
       " 2: 2,\n",
       " 3: 2,\n",
       " 4: 3,\n",
       " 5: 0,\n",
       " 6: 4,\n",
       " 7: 5,\n",
       " 8: 2,\n",
       " 9: 3,\n",
       " 10: 3,\n",
       " 11: 6,\n",
       " 12: 3,\n",
       " 13: 7,\n",
       " 14: 2,\n",
       " 15: 7,\n",
       " 16: 6,\n",
       " 17: 8,\n",
       " 18: 7,\n",
       " 19: 7,\n",
       " 20: 8,\n",
       " 21: 7,\n",
       " 22: 0,\n",
       " 23: 6,\n",
       " 24: 7,\n",
       " 25: 9,\n",
       " 26: 6,\n",
       " 27: 2,\n",
       " 28: 10,\n",
       " 29: 2}"
      ]
     },
     "execution_count": 45,
     "metadata": {},
     "output_type": "execute_result"
    }
   ],
   "source": [
    "partition"
   ]
  },
  {
   "cell_type": "code",
   "execution_count": null,
   "metadata": {
    "collapsed": true
   },
   "outputs": [],
   "source": []
  },
  {
   "cell_type": "code",
   "execution_count": 37,
   "metadata": {
    "collapsed": false
   },
   "outputs": [],
   "source": [
    "# diabetic_data_first_encounter[diabetic_data_first_encounter['cluster']==i]['discharge_disposition_id']\\\n",
    "# .value_counts(normalize=True)"
   ]
  },
  {
   "cell_type": "code",
   "execution_count": 38,
   "metadata": {
    "collapsed": false
   },
   "outputs": [],
   "source": [
    "#diabetic_data_first_encounter['diabetesMed'].value_counts(normalize=True)"
   ]
  },
  {
   "cell_type": "code",
   "execution_count": 39,
   "metadata": {
    "collapsed": false
   },
   "outputs": [],
   "source": [
    "# for i in range(150):\n",
    "#     try:\n",
    "#         if diabetic_data_first_encounter[diabetic_data_first_encounter['cluster']==i]['diabetesMed']\\\n",
    "#     .value_counts(normalize=True)['Yes'] > 0.85:\n",
    "#             print i\n",
    "#     except:\n",
    "#         pass"
   ]
  },
  {
   "cell_type": "code",
   "execution_count": 40,
   "metadata": {
    "collapsed": true
   },
   "outputs": [],
   "source": [
    "#del patient_df['cluster']"
   ]
  },
  {
   "cell_type": "code",
   "execution_count": 41,
   "metadata": {
    "collapsed": true
   },
   "outputs": [],
   "source": [
    "#clustering = DBSCAN(eps=3, min_samples=2).fit(patient_df)"
   ]
  },
  {
   "cell_type": "code",
   "execution_count": null,
   "metadata": {
    "collapsed": true
   },
   "outputs": [],
   "source": []
  },
  {
   "cell_type": "code",
   "execution_count": 104,
   "metadata": {
    "collapsed": false
   },
   "outputs": [],
   "source": [
    "# ct = pd.crosstab(diabetic_data['race'],diabetic_data['age']).apply(lambda r: r/r.sum(), axis=1)\n",
    "\n",
    "# for i in range(1,5):\n",
    "#     ax = ct.iloc[i,].plot(label=ct.index[i],figsize=(10,5))\n",
    "#     ax.legend(loc='upper left')\n",
    "# plt.show()"
   ]
  },
  {
   "cell_type": "code",
   "execution_count": null,
   "metadata": {
    "collapsed": false
   },
   "outputs": [],
   "source": [
    "# ct = pd.crosstab(diabetic_data['gender'],diabetic_data['age']).apply(lambda r: r/r.sum(), axis=1)\n",
    "\n",
    "# for i in range(3):\n",
    "#     ax = ct.iloc[i,].plot(label=ct.index[i],figsize=(10,5))\n",
    "#     ax.legend(loc='upper left')\n",
    "# plt.show()"
   ]
  },
  {
   "cell_type": "code",
   "execution_count": null,
   "metadata": {
    "collapsed": false
   },
   "outputs": [],
   "source": [
    "# ct = pd.crosstab(diabetic_data['race'],diabetic_data['gender']).apply(lambda r: r/r.sum(), axis=1)\n",
    "\n",
    "# for i in range(1,5):\n",
    "#     ax = ct.iloc[i,].plot(label=ct.index[i],figsize=(10,5))\n",
    "#     ax.legend(loc='upper left')\n",
    "# plt.show()"
   ]
  },
  {
   "cell_type": "code",
   "execution_count": 229,
   "metadata": {
    "collapsed": false
   },
   "outputs": [
    {
     "data": {
      "text/html": [
       "<div>\n",
       "<table border=\"1\" class=\"dataframe\">\n",
       "  <thead>\n",
       "    <tr style=\"text-align: right;\">\n",
       "      <th></th>\n",
       "      <th>time_in_hospital</th>\n",
       "      <th>num_lab_procedures</th>\n",
       "      <th>num_procedures</th>\n",
       "      <th>num_medications</th>\n",
       "      <th>number_outpatient</th>\n",
       "      <th>number_emergency</th>\n",
       "      <th>number_inpatient</th>\n",
       "      <th>number_diagnoses</th>\n",
       "    </tr>\n",
       "  </thead>\n",
       "  <tbody>\n",
       "    <tr>\n",
       "      <th>time_in_hospital</th>\n",
       "      <td>1.000000</td>\n",
       "      <td>0.318450</td>\n",
       "      <td>0.191472</td>\n",
       "      <td>0.466135</td>\n",
       "      <td>-0.008916</td>\n",
       "      <td>-0.009681</td>\n",
       "      <td>0.073623</td>\n",
       "      <td>0.220186</td>\n",
       "    </tr>\n",
       "    <tr>\n",
       "      <th>num_lab_procedures</th>\n",
       "      <td>0.318450</td>\n",
       "      <td>1.000000</td>\n",
       "      <td>0.058066</td>\n",
       "      <td>0.268161</td>\n",
       "      <td>-0.007602</td>\n",
       "      <td>-0.002279</td>\n",
       "      <td>0.039231</td>\n",
       "      <td>0.152773</td>\n",
       "    </tr>\n",
       "    <tr>\n",
       "      <th>num_procedures</th>\n",
       "      <td>0.191472</td>\n",
       "      <td>0.058066</td>\n",
       "      <td>1.000000</td>\n",
       "      <td>0.385767</td>\n",
       "      <td>-0.024819</td>\n",
       "      <td>-0.038179</td>\n",
       "      <td>-0.066236</td>\n",
       "      <td>0.073734</td>\n",
       "    </tr>\n",
       "    <tr>\n",
       "      <th>num_medications</th>\n",
       "      <td>0.466135</td>\n",
       "      <td>0.268161</td>\n",
       "      <td>0.385767</td>\n",
       "      <td>1.000000</td>\n",
       "      <td>0.045197</td>\n",
       "      <td>0.013180</td>\n",
       "      <td>0.064194</td>\n",
       "      <td>0.261526</td>\n",
       "    </tr>\n",
       "    <tr>\n",
       "      <th>number_outpatient</th>\n",
       "      <td>-0.008916</td>\n",
       "      <td>-0.007602</td>\n",
       "      <td>-0.024819</td>\n",
       "      <td>0.045197</td>\n",
       "      <td>1.000000</td>\n",
       "      <td>0.091459</td>\n",
       "      <td>0.107338</td>\n",
       "      <td>0.094152</td>\n",
       "    </tr>\n",
       "    <tr>\n",
       "      <th>number_emergency</th>\n",
       "      <td>-0.009681</td>\n",
       "      <td>-0.002279</td>\n",
       "      <td>-0.038179</td>\n",
       "      <td>0.013180</td>\n",
       "      <td>0.091459</td>\n",
       "      <td>1.000000</td>\n",
       "      <td>0.266559</td>\n",
       "      <td>0.055539</td>\n",
       "    </tr>\n",
       "    <tr>\n",
       "      <th>number_inpatient</th>\n",
       "      <td>0.073623</td>\n",
       "      <td>0.039231</td>\n",
       "      <td>-0.066236</td>\n",
       "      <td>0.064194</td>\n",
       "      <td>0.107338</td>\n",
       "      <td>0.266559</td>\n",
       "      <td>1.000000</td>\n",
       "      <td>0.104710</td>\n",
       "    </tr>\n",
       "    <tr>\n",
       "      <th>number_diagnoses</th>\n",
       "      <td>0.220186</td>\n",
       "      <td>0.152773</td>\n",
       "      <td>0.073734</td>\n",
       "      <td>0.261526</td>\n",
       "      <td>0.094152</td>\n",
       "      <td>0.055539</td>\n",
       "      <td>0.104710</td>\n",
       "      <td>1.000000</td>\n",
       "    </tr>\n",
       "  </tbody>\n",
       "</table>\n",
       "</div>"
      ],
      "text/plain": [
       "                    time_in_hospital  num_lab_procedures  num_procedures  \\\n",
       "time_in_hospital            1.000000            0.318450        0.191472   \n",
       "num_lab_procedures          0.318450            1.000000        0.058066   \n",
       "num_procedures              0.191472            0.058066        1.000000   \n",
       "num_medications             0.466135            0.268161        0.385767   \n",
       "number_outpatient          -0.008916           -0.007602       -0.024819   \n",
       "number_emergency           -0.009681           -0.002279       -0.038179   \n",
       "number_inpatient            0.073623            0.039231       -0.066236   \n",
       "number_diagnoses            0.220186            0.152773        0.073734   \n",
       "\n",
       "                    num_medications  number_outpatient  number_emergency  \\\n",
       "time_in_hospital           0.466135          -0.008916         -0.009681   \n",
       "num_lab_procedures         0.268161          -0.007602         -0.002279   \n",
       "num_procedures             0.385767          -0.024819         -0.038179   \n",
       "num_medications            1.000000           0.045197          0.013180   \n",
       "number_outpatient          0.045197           1.000000          0.091459   \n",
       "number_emergency           0.013180           0.091459          1.000000   \n",
       "number_inpatient           0.064194           0.107338          0.266559   \n",
       "number_diagnoses           0.261526           0.094152          0.055539   \n",
       "\n",
       "                    number_inpatient  number_diagnoses  \n",
       "time_in_hospital            0.073623          0.220186  \n",
       "num_lab_procedures          0.039231          0.152773  \n",
       "num_procedures             -0.066236          0.073734  \n",
       "num_medications             0.064194          0.261526  \n",
       "number_outpatient           0.107338          0.094152  \n",
       "number_emergency            0.266559          0.055539  \n",
       "number_inpatient            1.000000          0.104710  \n",
       "number_diagnoses            0.104710          1.000000  "
      ]
     },
     "execution_count": 229,
     "metadata": {},
     "output_type": "execute_result"
    }
   ],
   "source": [
    "diabetic_data[numeric_columns].corr()"
   ]
  },
  {
   "cell_type": "code",
   "execution_count": 232,
   "metadata": {
    "collapsed": false
   },
   "outputs": [],
   "source": [
    "diabetic_data_first_encounter[numeric_columns].corr().to_csv('corr.csv')"
   ]
  },
  {
   "cell_type": "code",
   "execution_count": 30,
   "metadata": {
    "collapsed": false
   },
   "outputs": [
    {
     "data": {
      "text/plain": [
       "0    46652\n",
       "1    20742\n",
       "2    12717\n",
       "3     9443\n",
       "6     4954\n",
       "4     4180\n",
       "5     3078\n",
       "Name: num_procedures, dtype: int64"
      ]
     },
     "execution_count": 30,
     "metadata": {},
     "output_type": "execute_result"
    }
   ],
   "source": [
    "diabetic_data['num_procedures'].value_counts()"
   ]
  },
  {
   "cell_type": "code",
   "execution_count": 26,
   "metadata": {
    "collapsed": false
   },
   "outputs": [
    {
     "name": "stdout",
     "output_type": "stream",
     "text": [
      "encounter_id 101766\n",
      "patient_nbr 71518\n",
      "race 6\n",
      "gender 3\n",
      "age 10\n",
      "weight 10\n",
      "admission_type_id 8\n",
      "discharge_disposition_id 26\n",
      "admission_source_id 17\n",
      "time_in_hospital 14\n",
      "payer_code 18\n",
      "medical_specialty 73\n",
      "num_lab_procedures 118\n",
      "num_procedures 7\n",
      "num_medications 75\n",
      "number_outpatient 39\n",
      "number_emergency 33\n",
      "number_inpatient 21\n",
      "diag_1 717\n",
      "diag_2 749\n",
      "diag_3 790\n",
      "number_diagnoses 16\n",
      "max_glu_serum 4\n",
      "A1Cresult 4\n",
      "metformin 4\n",
      "repaglinide 4\n",
      "nateglinide 4\n",
      "chlorpropamide 4\n",
      "glimepiride 4\n",
      "acetohexamide 2\n",
      "glipizide 4\n",
      "glyburide 4\n",
      "tolbutamide 2\n",
      "pioglitazone 4\n",
      "rosiglitazone 4\n",
      "acarbose 4\n",
      "miglitol 4\n",
      "troglitazone 2\n",
      "tolazamide 3\n",
      "examide 1\n",
      "citoglipton 1\n",
      "insulin 4\n",
      "glyburide-metformin 4\n",
      "glipizide-metformin 2\n",
      "glimepiride-pioglitazone 2\n",
      "metformin-rosiglitazone 2\n",
      "metformin-pioglitazone 2\n",
      "change 2\n",
      "diabetesMed 2\n",
      "readmitted 3\n"
     ]
    }
   ],
   "source": [
    "for col in cols:\n",
    "    print col,diabetic_data[col].nunique()"
   ]
  },
  {
   "cell_type": "code",
   "execution_count": 14,
   "metadata": {
    "collapsed": false
   },
   "outputs": [
    {
     "data": {
      "text/html": [
       "<div>\n",
       "<table border=\"1\" class=\"dataframe\">\n",
       "  <thead>\n",
       "    <tr style=\"text-align: right;\">\n",
       "      <th></th>\n",
       "      <th>encounter_id</th>\n",
       "      <th>patient_nbr</th>\n",
       "      <th>race</th>\n",
       "      <th>gender</th>\n",
       "      <th>age</th>\n",
       "      <th>weight</th>\n",
       "      <th>admission_type_id</th>\n",
       "      <th>discharge_disposition_id</th>\n",
       "      <th>admission_source_id</th>\n",
       "      <th>time_in_hospital</th>\n",
       "      <th>...</th>\n",
       "      <th>citoglipton</th>\n",
       "      <th>insulin</th>\n",
       "      <th>glyburide-metformin</th>\n",
       "      <th>glipizide-metformin</th>\n",
       "      <th>glimepiride-pioglitazone</th>\n",
       "      <th>metformin-rosiglitazone</th>\n",
       "      <th>metformin-pioglitazone</th>\n",
       "      <th>change</th>\n",
       "      <th>diabetesMed</th>\n",
       "      <th>readmitted</th>\n",
       "    </tr>\n",
       "  </thead>\n",
       "  <tbody>\n",
       "    <tr>\n",
       "      <th>74876</th>\n",
       "      <td>223647786</td>\n",
       "      <td>88785891</td>\n",
       "      <td>Caucasian</td>\n",
       "      <td>Female</td>\n",
       "      <td>[20-30)</td>\n",
       "      <td>?</td>\n",
       "      <td>2</td>\n",
       "      <td>1</td>\n",
       "      <td>7</td>\n",
       "      <td>2</td>\n",
       "      <td>...</td>\n",
       "      <td>No</td>\n",
       "      <td>Down</td>\n",
       "      <td>No</td>\n",
       "      <td>No</td>\n",
       "      <td>No</td>\n",
       "      <td>No</td>\n",
       "      <td>No</td>\n",
       "      <td>Ch</td>\n",
       "      <td>Yes</td>\n",
       "      <td>&lt;30</td>\n",
       "    </tr>\n",
       "  </tbody>\n",
       "</table>\n",
       "<p>1 rows × 50 columns</p>\n",
       "</div>"
      ],
      "text/plain": [
       "       encounter_id  patient_nbr       race  gender      age weight  \\\n",
       "74876     223647786     88785891  Caucasian  Female  [20-30)      ?   \n",
       "\n",
       "       admission_type_id  discharge_disposition_id  admission_source_id  \\\n",
       "74876                  2                         1                    7   \n",
       "\n",
       "       time_in_hospital    ...     citoglipton insulin  glyburide-metformin  \\\n",
       "74876                 2    ...              No    Down                   No   \n",
       "\n",
       "       glipizide-metformin  glimepiride-pioglitazone  metformin-rosiglitazone  \\\n",
       "74876                   No                        No                       No   \n",
       "\n",
       "       metformin-pioglitazone  change diabetesMed readmitted  \n",
       "74876                      No      Ch         Yes        <30  \n",
       "\n",
       "[1 rows x 50 columns]"
      ]
     },
     "execution_count": 14,
     "metadata": {},
     "output_type": "execute_result"
    }
   ],
   "source": [
    "diabetic_data[diabetic_data[u'patient_nbr']==88785891].sample(1)"
   ]
  },
  {
   "cell_type": "code",
   "execution_count": 20,
   "metadata": {
    "collapsed": false
   },
   "outputs": [
    {
     "data": {
      "text/plain": [
       "13    6086\n",
       "12    6004\n",
       "11    5795\n",
       "15    5792\n",
       "14    5707\n",
       "16    5430\n",
       "10    5346\n",
       "17    4919\n",
       "9     4913\n",
       "18    4523\n",
       "8     4353\n",
       "19    4078\n",
       "20    3691\n",
       "7     3484\n",
       "21    3230\n",
       "22    2868\n",
       "6     2699\n",
       "23    2426\n",
       "24    2109\n",
       "5     2017\n",
       "25    1888\n",
       "26    1608\n",
       "27    1432\n",
       "4     1417\n",
       "28    1233\n",
       "29    1000\n",
       "3      900\n",
       "30     849\n",
       "31     712\n",
       "32     623\n",
       "      ... \n",
       "45      88\n",
       "47      74\n",
       "49      61\n",
       "48      60\n",
       "50      55\n",
       "52      54\n",
       "51      43\n",
       "53      40\n",
       "56      37\n",
       "54      33\n",
       "55      32\n",
       "57      26\n",
       "58      25\n",
       "60      23\n",
       "59      20\n",
       "62      15\n",
       "63      14\n",
       "61      14\n",
       "65      12\n",
       "64       8\n",
       "68       7\n",
       "67       7\n",
       "69       5\n",
       "66       5\n",
       "72       3\n",
       "70       2\n",
       "75       2\n",
       "74       1\n",
       "79       1\n",
       "81       1\n",
       "Name: num_medications, dtype: int64"
      ]
     },
     "execution_count": 20,
     "metadata": {},
     "output_type": "execute_result"
    }
   ],
   "source": [
    "diabetic_data['num_medications'].value_counts()"
   ]
  },
  {
   "cell_type": "code",
   "execution_count": null,
   "metadata": {
    "collapsed": true
   },
   "outputs": [],
   "source": []
  }
 ],
 "metadata": {
  "kernelspec": {
   "display_name": "Python 2",
   "language": "python",
   "name": "python2"
  },
  "language_info": {
   "codemirror_mode": {
    "name": "ipython",
    "version": 2
   },
   "file_extension": ".py",
   "mimetype": "text/x-python",
   "name": "python",
   "nbconvert_exporter": "python",
   "pygments_lexer": "ipython2",
   "version": "2.7.13"
  }
 },
 "nbformat": 4,
 "nbformat_minor": 0
}
