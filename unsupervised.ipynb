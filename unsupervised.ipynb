{
 "cells": [
  {
   "cell_type": "markdown",
   "metadata": {},
   "source": [
    "Yitzhak Cohen"
   ]
  },
  {
   "cell_type": "markdown",
   "metadata": {},
   "source": [
    "This program attempts to get as many conclusions as possible , using only unsupervised methods.\n",
    "It has 2 parts:\n",
    "1. data analysis\n",
    "2. Clustering and Dimension reduction methods."
   ]
  },
  {
   "cell_type": "code",
   "execution_count": 2,
   "metadata": {
    "collapsed": false
   },
   "outputs": [
    {
     "name": "stderr",
     "output_type": "stream",
     "text": [
      "/home/lizard/anaconda2/lib/python2.7/site-packages/matplotlib/font_manager.py:273: UserWarning: Matplotlib is building the font cache using fc-list. This may take a moment.\n",
      "  warnings.warn('Matplotlib is building the font cache using fc-list. This may take a moment.')\n"
     ]
    }
   ],
   "source": [
    "import numpy as np\n",
    "import pandas as pd\n",
    "import matplotlib.pyplot as plt\n",
    "from sklearn.cluster import KMeans\n",
    "from sklearn import metrics\n",
    "import matplotlib.pyplot as plt\n",
    "%matplotlib inline\n",
    "import gc\n",
    "from itertools import combinations\n",
    "from sklearn.decomposition import PCA\n",
    "from scipy.spatial import distance\n",
    "from sklearn.cluster import SpectralClustering\n",
    "from sklearn import metrics"
   ]
  },
  {
   "cell_type": "code",
   "execution_count": 7,
   "metadata": {
    "collapsed": false
   },
   "outputs": [],
   "source": [
    "# Read the Data\n",
    "diabetic_data = pd.read_csv('dataset_diabetes/diabetic_data.csv')"
   ]
  },
  {
   "cell_type": "code",
   "execution_count": 3,
   "metadata": {
    "collapsed": false
   },
   "outputs": [],
   "source": [
    "# The icd9 codes description , just to understand the diagnoses.\n",
    "diag_codes = pd.read_csv('icd9.csv',names=['code','diag_description'])\n",
    "diag_codes_dict = dict(zip(diag_codes['code'].values,diag_codes['diag_description'].values))\n",
    "def get_description(diag):\n",
    "    if diag in diag_codes_dict.keys():\n",
    "        ret = diag_codes_dict[diag]\n",
    "    else:\n",
    "        ret = diag\n",
    "    return ret"
   ]
  },
  {
   "cell_type": "code",
   "execution_count": 6,
   "metadata": {
    "collapsed": false
   },
   "outputs": [],
   "source": [
    "# The description of the features : admission_source_id , discharge_disposition_id, admission_type_id\n",
    "ids_mapping_dict = {}\n",
    "key = ''\n",
    "with open('dataset_diabetes/IDs_mapping.csv','r') as f:\n",
    "    for line in  f.readlines():\n",
    "        line =  line.strip()\n",
    "        if line == ',':\n",
    "            continue\n",
    "        vals = line.split(',')\n",
    "        if vals[1] == 'description':\n",
    "            key = vals[0]\n",
    "            ids_mapping_dict[key] = {}\n",
    "            continue\n",
    "        else:\n",
    "            ids_mapping_dict[key][vals[0]]=  vals[1]"
   ]
  },
  {
   "cell_type": "code",
   "execution_count": 2,
   "metadata": {
    "collapsed": false
   },
   "outputs": [],
   "source": [
    "# Seperate the columns into numerical and nominal columns , they should be handled differently.\n",
    "nominal_columns = [u'race', u'gender', u'age',\n",
    "       u'admission_type_id', u'discharge_disposition_id',\n",
    "       u'admission_source_id', u'payer_code',\n",
    "       u'medical_specialty', u'diag_1', u'diag_2', u'diag_3',\n",
    "       u'max_glu_serum', u'A1Cresult', u'change', u'diabetesMed', u'readmitted']\n",
    "\n",
    "numeric_columns = [u'time_in_hospital',u'num_lab_procedures', u'num_procedures',\n",
    "       u'num_medications', u'number_outpatient', u'number_emergency',\n",
    "       u'number_inpatient','number_diagnoses']\n",
    "\n",
    "medication_columns = [u'metformin',u'repaglinide', u'nateglinide', u'chlorpropamide', u'glimepiride',\n",
    "       u'acetohexamide', u'glipizide', u'glyburide', u'tolbutamide',\n",
    "       u'pioglitazone', u'rosiglitazone', u'acarbose', u'miglitol',\n",
    "       u'troglitazone', u'tolazamide', u'examide', u'citoglipton', u'insulin',\n",
    "       u'glyburide-metformin', u'glipizide-metformin',\n",
    "       u'glimepiride-pioglitazone', u'metformin-rosiglitazone',\n",
    "       u'metformin-pioglitazone']\n",
    "\n",
    "cols_to_remove  = [u'encounter_id', u'patient_nbr',u'weight']"
   ]
  },
  {
   "cell_type": "code",
   "execution_count": 8,
   "metadata": {
    "collapsed": false
   },
   "outputs": [],
   "source": [
    "# Get the features  admission_source_id , discharge_disposition_id, admission_type_id description instead of integer code.\n",
    "diabetic_data['admission_source_id'] = diabetic_data['admission_source_id'].apply(lambda x: ids_mapping_dict['admission_source_id'][str(x)])\n",
    "diabetic_data['discharge_disposition_id'] = diabetic_data['discharge_disposition_id'].apply(lambda x: ids_mapping_dict['discharge_disposition_id'][str(x)])\n",
    "diabetic_data['admission_type_id'] = diabetic_data['admission_type_id'].apply(lambda x: ids_mapping_dict['admission_type_id'][str(x)])"
   ]
  },
  {
   "cell_type": "code",
   "execution_count": 9,
   "metadata": {
    "collapsed": true
   },
   "outputs": [],
   "source": [
    "# Ge the diagnoses description , instead of icd9 code.\n",
    "diabetic_data['diag_1'] = diabetic_data['diag_1'].apply(get_description)\n",
    "diabetic_data['diag_2'] = diabetic_data['diag_2'].apply(get_description)\n",
    "diabetic_data['diag_3'] = diabetic_data['diag_3'].apply(get_description)"
   ]
  },
  {
   "cell_type": "markdown",
   "metadata": {},
   "source": [
    "# Features Connection"
   ]
  },
  {
   "cell_type": "markdown",
   "metadata": {},
   "source": [
    "This is the data analysis part,  find which nominal features are connected , and which numerical features are correlated"
   ]
  },
  {
   "cell_type": "code",
   "execution_count": 9,
   "metadata": {
    "collapsed": true
   },
   "outputs": [],
   "source": [
    "# Since some patients have more than one encounter , only keep analyze each patient's first encounter.\n",
    "diabetic_data['encounter_id'] = diabetic_data['encounter_id'].astype('int')\n",
    "patient_first_encounter = diabetic_data[[u'encounter_id', u'patient_nbr']].groupby('patient_nbr').min()['encounter_id'].reset_index()\n",
    "diabetic_data_first_encounter = diabetic_data.merge(patient_first_encounter,on=['patient_nbr','encounter_id'])"
   ]
  },
  {
   "cell_type": "code",
   "execution_count": null,
   "metadata": {
    "collapsed": false
   },
   "outputs": [],
   "source": [
    "diabetic_data_first_encounter[numeric_columns].corr().to_csv('corr.csv')"
   ]
  },
  {
   "cell_type": "code",
   "execution_count": 112,
   "metadata": {
    "collapsed": false
   },
   "outputs": [],
   "source": [
    "arr = []\n",
    "threshold = 1.5\n",
    "samples_thres = 100\n",
    "for comb in combinations(nominal_columns,2):\n",
    "    ct = pd.crosstab(diabetic_data_first_encounter[comb[0]],diabetic_data_first_encounter[comb[1]])\n",
    "    norm_ct = ct.fillna(0).apply(lambda r: r/r.sum(), axis=1).apply(lambda r: r/r.sum(), axis=1)\n",
    "    norm_ct = norm_ct[ct>samples_thres].fillna(0)\n",
    "    distribution = diabetic_data_first_encounter[comb[1]].value_counts(normalize=True)\n",
    "    for col in norm_ct.columns:\n",
    "        norm_ct[col] =  norm_ct[col] / distribution[col]\n",
    "    res = norm_ct[(norm_ct> threshold) | (norm_ct <  (1.0/threshold))].dropna(how='all',axis=1).dropna(how='all',axis=0)\n",
    "    if res.shape[0] > 0:\n",
    "        col1 = res.index.name\n",
    "        col2 = res.columns.name\n",
    "        for row in res.iterrows():\n",
    "            for idx,val in enumerate(row[1],0):\n",
    "                if val > 0:\n",
    "                    arr.append([col1,row[0],col2,row[1].keys()[idx],val,ct.loc[row[0],row[1].keys()[idx]]])\n",
    "\n",
    "res_df = pd.DataFrame(arr,columns = ['feature 1','value 1','feature 2','value 2','ratio','num samples'])\n",
    "res_df.to_csv('res_first_encounter.csv',index=False)"
   ]
  },
  {
   "cell_type": "code",
   "execution_count": 125,
   "metadata": {
    "collapsed": false
   },
   "outputs": [
    {
     "name": "stdout",
     "output_type": "stream",
     "text": [
      "[0-10)\n",
      "[10-20)\n",
      "[20-30)\n",
      "[30-40)\n",
      "[40-50)\n",
      "[50-60)\n",
      "[60-70)\n",
      "[70-80)\n",
      "[80-90)\n",
      "[90-100)\n"
     ]
    },
    {
     "data": {
      "text/plain": [
       "<matplotlib.axes._subplots.AxesSubplot at 0x7f43b6f384d0>"
      ]
     },
     "execution_count": 125,
     "metadata": {},
     "output_type": "execute_result"
    },
    {
     "data": {
      "image/png": "[encoded data removed]",
      "text/plain": [
       "<matplotlib.figure.Figure at 0x7f43b6e00c90>"
      ]
     },
     "metadata": {},
     "output_type": "display_data"
    }
   ],
   "source": [
    "# Some interesting polts\n",
    "arr = []\n",
    "for age in diabetic_data_first_encounter['age'].unique():\n",
    "    try:\n",
    "        val = diabetic_data_first_encounter[diabetic_data_first_encounter['age']==age]\\\n",
    "    ['diag_1'].value_counts(normalize=True)['250.13']\n",
    "    except:\n",
    "        val = 0\n",
    "    arr.append([age,val])\n",
    "plt_df = pd.DataFrame(arr,columns=['age','probability'])\n",
    "plt_df.set_index('age').plot(kind='bar')"
   ]
  },
  {
   "cell_type": "markdown",
   "metadata": {},
   "source": [
    "# Clustering"
   ]
  },
  {
   "cell_type": "markdown",
   "metadata": {},
   "source": [
    "This section attempts to create cluster using several techniques"
   ]
  },
  {
   "cell_type": "markdown",
   "metadata": {},
   "source": [
    "### 1. K-Means"
   ]
  },
  {
   "cell_type": "code",
   "execution_count": null,
   "metadata": {
    "collapsed": false
   },
   "outputs": [],
   "source": [
    "# Features characterizing the patient demographic and medical condition prior to his hospialization\n",
    "patient_features  = [u'race', u'gender', u'age',u'admission_type_id',u'admission_source_id',\\\n",
    "                     u'payer_code',u'number_outpatient', u'number_emergency',u'number_inpatient']\n",
    "\n",
    "\n",
    "patient_df = diabetic_data_first_encounter[patient_features]\n",
    "\n",
    "# Change age into numerical feature by taking each group average.\n",
    "def get_age(age_group):\n",
    "    return np.mean([int(x) for x in age_group.replace('[','').replace(')','').split('-')])\n",
    "\n",
    "patient_df['age'] = patient_df['age'].apply(get_age)\n",
    "\n",
    "# Normalize numerical colum , in order to keep then pretty much on the same scale as the one hot features.\n",
    "cols_to_normalize = ['age','number_outpatient','number_emergency','number_inpatient']\n",
    "for col in cols_to_normalize:\n",
    "    patient_df[col] = (patient_df[col] - patient_df[col].min()) / (patient_df[col].max() - patient_df[col].min())\n",
    "\n",
    "cols_to_one_hot = [u'race', u'gender',u'admission_type_id',u'admission_source_id',u'payer_code']\n",
    "dummy_df = pd.get_dummies(patient_df[cols_to_one_hot])\n",
    "patient_df = pd.concat([patient_df,dummy_df],axis=1)\n",
    "for col in cols_to_one_hot:\n",
    "    del patient_df[col]\n",
    "\n",
    "gc.collect()\n"
   ]
  },
  {
   "cell_type": "code",
   "execution_count": null,
   "metadata": {
    "collapsed": true
   },
   "outputs": [],
   "source": [
    "#Find best k\n",
    "res = []\n",
    "for k in range(2,10):\n",
    "    kmeans = KMeans(n_clusters=k,random_state=0,n_jobs=3).fit(patient_df)\n",
    "    patient_df['cluster'] = kmeans.labels_\n",
    "    del kmeans\n",
    "    sample = patient_df.sample(10000)\n",
    "    score = metrics.silhouette_score(sample.iloc[:,:-1],sample.iloc[:,-1])\n",
    "    print k,score\n",
    "    res.append(score)\n",
    "    gc.collect()\n",
    "    \n",
    "for k in range(10,200,10):\n",
    "    kmeans = KMeans(n_clusters=k,random_state=0,n_jobs=3).fit(patient_df)\n",
    "    patient_df['cluster'] = kmeans.labels_\n",
    "    del kmeans\n",
    "    sample = patient_df.sample(10000)\n",
    "    score = metrics.silhouette_score(sample.iloc[:,:-1],sample.iloc[:,-1])\n",
    "    print k,score\n",
    "    res.append(score)\n",
    "    gc.collect()"
   ]
  },
  {
   "cell_type": "code",
   "execution_count": 28,
   "metadata": {
    "collapsed": true
   },
   "outputs": [],
   "source": [
    "l = []\n",
    "for k in range(2,10):\n",
    "    l.append(k)\n",
    "for k in range(10,200,10):\n",
    "    l.append(k)\n",
    "k_score = pd.DataFrame(res,index=l)\n",
    "\n",
    "plt.plot(k_score)"
   ]
  },
  {
   "cell_type": "code",
   "execution_count": 29,
   "metadata": {
    "collapsed": false
   },
   "outputs": [
    {
     "data": {
      "text/plain": [
       "[<matplotlib.lines.Line2D at 0x7f919e34a710>]"
      ]
     },
     "execution_count": 29,
     "metadata": {},
     "output_type": "execute_result"
    },
    {
     "data": {
      "image/png": "[encoded data removed]",
      "text/plain": [
       "<matplotlib.figure.Figure at 0x7f919e41b990>"
      ]
     },
     "metadata": {},
     "output_type": "display_data"
    }
   ],
   "source": [
    "plt.plot(k_score)"
   ]
  },
  {
   "cell_type": "code",
   "execution_count": 32,
   "metadata": {
    "collapsed": false
   },
   "outputs": [
    {
     "data": {
      "text/plain": [
       "61"
      ]
     },
     "execution_count": 32,
     "metadata": {},
     "output_type": "execute_result"
    }
   ],
   "source": [
    "gc.collect()"
   ]
  },
  {
   "cell_type": "code",
   "execution_count": null,
   "metadata": {
    "collapsed": false,
    "scrolled": true
   },
   "outputs": [],
   "source": [
    "patient_df_2 = diabetic_data_first_encounter[patient_features]\n",
    "def get_age(age_group):\n",
    "    return np.mean([int(x) for x in age_group.replace('[','').replace(')','').split('-')])\n",
    "patient_df_2['age'] = patient_df_2['age'].apply(get_age)"
   ]
  },
  {
   "cell_type": "code",
   "execution_count": null,
   "metadata": {
    "collapsed": false
   },
   "outputs": [],
   "source": [
    "# Try using PCA for dimension reduction for the numerical columns.\n",
    "cols_to_pca = ['number_outpatient','number_emergency','number_inpatient']\n",
    "reduced_data = PCA(n_components=1).fit_transform(patient_df_2[cols_to_pca])\n",
    "patient_df_2['hospitalizations'] = reduced_data\n",
    "for col in cols_to_pca:\n",
    "    del patient_df_2[col]\n",
    "    \n",
    "cols_to_normalize = ['age','hospitalizations']\n",
    "for col in cols_to_normalize:\n",
    "    patient_df_2[col] = (patient_df_2[col] - patient_df_2[col].min()) / (patient_df_2[col].max() - patient_df_2[col].min())\n",
    "\n",
    "cols_to_one_hot = [u'race', u'gender',u'admission_type_id',u'admission_source_id',u'payer_code']\n",
    "dummy_df = pd.get_dummies(patient_df_2[cols_to_one_hot])\n",
    "patient_df_2 = pd.concat([patient_df_2,dummy_df],axis=1)\n",
    "for col in cols_to_one_hot:\n",
    "    del patient_df_2[col]\n",
    "gc.collect()\n"
   ]
  },
  {
   "cell_type": "code",
   "execution_count": null,
   "metadata": {
    "collapsed": false
   },
   "outputs": [],
   "source": [
    "#Find best k\n",
    "res = []\n",
    "for k in range(2,10):\n",
    "    kmeans = KMeans(n_clusters=k,random_state=0,n_jobs=3).fit(patient_df_2)\n",
    "    patient_df['cluster'] = kmeans.labels_\n",
    "    del kmeans\n",
    "    sample = patient_df.sample(10000)\n",
    "    score = metrics.silhouette_score(sample.iloc[:,:-1],sample.iloc[:,-1])\n",
    "    print k,score\n",
    "    res.append(score)\n",
    "    gc.collect()\n",
    "    \n",
    "for k in range(10,200,10):\n",
    "    kmeans = KMeans(n_clusters=k,random_state=0,n_jobs=3).fit(patient_df_2)\n",
    "    patient_df['cluster'] = kmeans.labels_\n",
    "    del kmeans\n",
    "    sample = patient_df.sample(10000)\n",
    "    score = metrics.silhouette_score(sample.iloc[:,:-1],sample.iloc[:,-1])\n",
    "    print k,score\n",
    "    res.append(score)\n",
    "    gc.collect()"
   ]
  },
  {
   "cell_type": "code",
   "execution_count": 41,
   "metadata": {
    "collapsed": true
   },
   "outputs": [],
   "source": [
    "l = []\n",
    "for k in range(2,10):\n",
    "    l.append(k)\n",
    "for k in range(10,200,10):\n",
    "    l.append(k)\n",
    "k_score = pd.DataFrame(res,index=l)"
   ]
  },
  {
   "cell_type": "code",
   "execution_count": 42,
   "metadata": {
    "collapsed": false
   },
   "outputs": [
    {
     "data": {
      "text/plain": [
       "[<matplotlib.lines.Line2D at 0x7f919e184050>]"
      ]
     },
     "execution_count": 42,
     "metadata": {},
     "output_type": "execute_result"
    },
    {
     "data": {
      "image/png": "[encoded data removed]",
      "text/plain": [
       "<matplotlib.figure.Figure at 0x7f919e28d290>"
      ]
     },
     "metadata": {},
     "output_type": "display_data"
    }
   ],
   "source": [
    "plt.plot(k_score)"
   ]
  },
  {
   "cell_type": "code",
   "execution_count": 53,
   "metadata": {
    "collapsed": false
   },
   "outputs": [],
   "source": [
    "best_k = 30\n",
    "kmeans = KMeans(n_clusters=best_k,random_state=0,n_jobs=3).fit(patient_df)\n",
    "diabetic_data_first_encounter['cluster'] = kmeans.labels_"
   ]
  },
  {
   "cell_type": "markdown",
   "metadata": {
    "collapsed": true
   },
   "source": [
    "### 2.Similarity / Distance matrix"
   ]
  },
  {
   "cell_type": "markdown",
   "metadata": {},
   "source": [
    "Attenpt to cluster data using similarity between samples."
   ]
  },
  {
   "cell_type": "code",
   "execution_count": 68,
   "metadata": {
    "collapsed": true
   },
   "outputs": [],
   "source": [
    "patient_df = diabetic_data_first_encounter[patient_features]"
   ]
  },
  {
   "cell_type": "code",
   "execution_count": 59,
   "metadata": {
    "collapsed": true
   },
   "outputs": [],
   "source": [
    "race_dict = dict(zip(patient_df['race'].unique(),range(patient_df['race'].nunique())))\n",
    "gender_dict = dict(zip(patient_df['gender'].unique(),range(patient_df['gender'].nunique())))\n",
    "payer_code_dict = dict(zip(patient_df['payer_code'].unique(),range(patient_df['payer_code'].nunique())))"
   ]
  },
  {
   "cell_type": "code",
   "execution_count": null,
   "metadata": {
    "collapsed": false
   },
   "outputs": [],
   "source": [
    "patient_df['race'] = patient_df['race'].apply(lambda x :race_dict[x])\n",
    "patient_df['gender'] = patient_df['gender'].apply(lambda x :gender_dict[x])\n",
    "patient_df['payer_code'] = patient_df['payer_code'].apply(lambda x :payer_code_dict[x])"
   ]
  },
  {
   "cell_type": "code",
   "execution_count": 36,
   "metadata": {
    "collapsed": false
   },
   "outputs": [
    {
     "name": "stderr",
     "output_type": "stream",
     "text": [
      "/home/lizard/anaconda2/lib/python2.7/site-packages/ipykernel/__main__.py:3: SettingWithCopyWarning: \n",
      "A value is trying to be set on a copy of a slice from a DataFrame.\n",
      "Try using .loc[row_indexer,col_indexer] = value instead\n",
      "\n",
      "See the caveats in the documentation: http://pandas.pydata.org/pandas-docs/stable/indexing.html#indexing-view-versus-copy\n",
      "  app.launch_new_instance()\n"
     ]
    }
   ],
   "source": [
    "# normalize numeric columns , so the distance will be on the same scale.\n",
    "cols_to_normalize = ['age','number_outpatient','number_emergency','number_inpatient']\n",
    "for col in cols_to_normalize:\n",
    "    patient_df[col] = (patient_df[col] - patient_df[col].min()) / (patient_df[col].max() - patient_df[col].min())"
   ]
  },
  {
   "cell_type": "code",
   "execution_count": 46,
   "metadata": {
    "collapsed": true
   },
   "outputs": [],
   "source": [
    "nominal_indices = [0,1,3,4,5]\n",
    "numeric_indices = [2,6,7,8]"
   ]
  },
  {
   "cell_type": "code",
   "execution_count": 173,
   "metadata": {
    "collapsed": false
   },
   "outputs": [],
   "source": [
    "# For nominal features , the similarit will be in an inverse ratio to the general probability\n",
    "nominal_coefficient = []\n",
    "for i in range(6):\n",
    "    nominal_coefficient.append({})\n",
    "for idx in nominal_indices:\n",
    "    nominal_coefficient[idx] = dict(1 / patient_df.iloc[:,idx].value_counts(normalize=True))"
   ]
  },
  {
   "cell_type": "code",
   "execution_count": 195,
   "metadata": {
    "collapsed": true
   },
   "outputs": [],
   "source": [
    "# Function that returns similarity between 2 samples.\n",
    "def get_similarity(x_1,x_2):\n",
    "    sim = np.zeros(9)\n",
    "    sim[nominal_indices] =  [int(x) for x in x_1[nominal_indices] == x_2[nominal_indices]]\n",
    "    for idx in nominal_indices:\n",
    "        sim[idx] = sim[idx] * nominal_coefficient[idx][int(x_1[idx])]\n",
    "    sim[numeric_indices] = 1 - np.abs(x_1[numeric_indices] - x_2[numeric_indices])   \n",
    "    return np.mean(sim)"
   ]
  },
  {
   "cell_type": "code",
   "execution_count": 202,
   "metadata": {
    "collapsed": false
   },
   "outputs": [],
   "source": [
    "# Due to resources limitation only cluster 10,000 samples.\n",
    "sample_df = patient_df.sample(10000)\n",
    "vals = sample_df.values\n",
    "sim = distance.cdist(vals,vals,get_similarity)"
   ]
  },
  {
   "cell_type": "code",
   "execution_count": null,
   "metadata": {
    "collapsed": false
   },
   "outputs": [],
   "source": [
    "adj_mat = np.array(sim)\n",
    "sc = SpectralClustering(30, affinity='precomputed', n_init=100)\n",
    "sc.fit(adj_mat)"
   ]
  },
  {
   "cell_type": "code",
   "execution_count": 111,
   "metadata": {
    "collapsed": false
   },
   "outputs": [],
   "source": [
    "sample_df['cluster'] = sc.labels_\n",
    "sample_df['Unnamed: 0'] = sample_df.index\n",
    "spectral_clutering = diabetic_data_first_encounter.merge(sample_df[['Unnamed: 0','cluster']],on='Unnamed: 0')"
   ]
  },
  {
   "cell_type": "code",
   "execution_count": null,
   "metadata": {
    "collapsed": true
   },
   "outputs": [],
   "source": []
  }
 ],
 "metadata": {
  "kernelspec": {
   "display_name": "Python 2",
   "language": "python",
   "name": "python2"
  },
  "language_info": {
   "codemirror_mode": {
    "name": "ipython",
    "version": 2
   },
   "file_extension": ".py",
   "mimetype": "text/x-python",
   "name": "python",
   "nbconvert_exporter": "python",
   "pygments_lexer": "ipython2",
   "version": "2.7.13"
  }
 },
 "nbformat": 4,
 "nbformat_minor": 0
}
